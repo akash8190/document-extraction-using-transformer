{
  "nbformat": 4,
  "nbformat_minor": 0,
  "metadata": {
    "colab": {
      "provenance": [],
      "gpuType": "T4"
    },
    "kernelspec": {
      "name": "python3",
      "display_name": "Python 3"
    },
    "language_info": {
      "name": "python"
    },
    "accelerator": "GPU"
  },
  "cells": [
    {
      "cell_type": "code",
      "source": [
        "!apt install tesseract-ocr\n",
        "!apt install libtesseract-dev"
      ],
      "metadata": {
        "colab": {
          "base_uri": "https://localhost:8080/"
        },
        "id": "Tw5RS_8zbg34",
        "outputId": "8ad9fc02-a0c3-4e2e-dd00-27c2ca655309"
      },
      "execution_count": 65,
      "outputs": [
        {
          "output_type": "stream",
          "name": "stdout",
          "text": [
            "Reading package lists... Done\n",
            "Building dependency tree... Done\n",
            "Reading state information... Done\n",
            "tesseract-ocr is already the newest version (4.1.1-2.1build1).\n",
            "0 upgraded, 0 newly installed, 0 to remove and 16 not upgraded.\n",
            "Reading package lists... Done\n",
            "Building dependency tree... Done\n",
            "Reading state information... Done\n",
            "libtesseract-dev is already the newest version (4.1.1-2.1build1).\n",
            "0 upgraded, 0 newly installed, 0 to remove and 16 not upgraded.\n"
          ]
        }
      ]
    },
    {
      "cell_type": "markdown",
      "source": [
        "Problem statement:\n",
        "We need to build a solution for extracting structured information from scanned invoices or invoice images. The data we need to fetch is:\n",
        "Invoice number, invoice date, GST number, Vendor name, Vendor address, delivery address, Buyer Name, Buyer address, item details (including prices, quantity, item codes, discount and taxation), total invoice amount, total tax amount, PO number"
      ],
      "metadata": {
        "id": "BEssX3pi27Dm"
      }
    },
    {
      "cell_type": "code",
      "source": [
        "!pip install pillow\n",
        "!pip install pytesseract\n",
        "!pip install transformers"
      ],
      "metadata": {
        "colab": {
          "base_uri": "https://localhost:8080/"
        },
        "id": "9A3ZWAyarc0d",
        "outputId": "ae6ba450-a249-4966-d654-c38466d2ec26"
      },
      "execution_count": 67,
      "outputs": [
        {
          "output_type": "stream",
          "name": "stdout",
          "text": [
            "Requirement already satisfied: pillow in /usr/local/lib/python3.10/dist-packages (9.4.0)\n",
            "Requirement already satisfied: pytesseract in /usr/local/lib/python3.10/dist-packages (0.3.10)\n",
            "Requirement already satisfied: packaging>=21.3 in /usr/local/lib/python3.10/dist-packages (from pytesseract) (23.1)\n",
            "Requirement already satisfied: Pillow>=8.0.0 in /usr/local/lib/python3.10/dist-packages (from pytesseract) (9.4.0)\n",
            "Requirement already satisfied: transformers in /usr/local/lib/python3.10/dist-packages (4.31.0)\n",
            "Requirement already satisfied: filelock in /usr/local/lib/python3.10/dist-packages (from transformers) (3.12.2)\n",
            "Requirement already satisfied: huggingface-hub<1.0,>=0.14.1 in /usr/local/lib/python3.10/dist-packages (from transformers) (0.16.4)\n",
            "Requirement already satisfied: numpy>=1.17 in /usr/local/lib/python3.10/dist-packages (from transformers) (1.23.5)\n",
            "Requirement already satisfied: packaging>=20.0 in /usr/local/lib/python3.10/dist-packages (from transformers) (23.1)\n",
            "Requirement already satisfied: pyyaml>=5.1 in /usr/local/lib/python3.10/dist-packages (from transformers) (6.0.1)\n",
            "Requirement already satisfied: regex!=2019.12.17 in /usr/local/lib/python3.10/dist-packages (from transformers) (2023.6.3)\n",
            "Requirement already satisfied: requests in /usr/local/lib/python3.10/dist-packages (from transformers) (2.31.0)\n",
            "Requirement already satisfied: tokenizers!=0.11.3,<0.14,>=0.11.1 in /usr/local/lib/python3.10/dist-packages (from transformers) (0.13.3)\n",
            "Requirement already satisfied: safetensors>=0.3.1 in /usr/local/lib/python3.10/dist-packages (from transformers) (0.3.2)\n",
            "Requirement already satisfied: tqdm>=4.27 in /usr/local/lib/python3.10/dist-packages (from transformers) (4.66.1)\n",
            "Requirement already satisfied: fsspec in /usr/local/lib/python3.10/dist-packages (from huggingface-hub<1.0,>=0.14.1->transformers) (2023.6.0)\n",
            "Requirement already satisfied: typing-extensions>=3.7.4.3 in /usr/local/lib/python3.10/dist-packages (from huggingface-hub<1.0,>=0.14.1->transformers) (4.7.1)\n",
            "Requirement already satisfied: charset-normalizer<4,>=2 in /usr/local/lib/python3.10/dist-packages (from requests->transformers) (3.2.0)\n",
            "Requirement already satisfied: idna<4,>=2.5 in /usr/local/lib/python3.10/dist-packages (from requests->transformers) (3.4)\n",
            "Requirement already satisfied: urllib3<3,>=1.21.1 in /usr/local/lib/python3.10/dist-packages (from requests->transformers) (2.0.4)\n",
            "Requirement already satisfied: certifi>=2017.4.17 in /usr/local/lib/python3.10/dist-packages (from requests->transformers) (2023.7.22)\n"
          ]
        }
      ]
    },
    {
      "cell_type": "code",
      "source": [
        "img_path= \"/content/Rajhans Fabrication Pvt. Ltd-1.jpg\""
      ],
      "metadata": {
        "id": "R--QBtuQrc3O"
      },
      "execution_count": 68,
      "outputs": []
    },
    {
      "cell_type": "code",
      "source": [],
      "metadata": {
        "id": "Y2-mtglVAdWV"
      },
      "execution_count": null,
      "outputs": []
    },
    {
      "cell_type": "code",
      "source": [
        "CHECKPOINTS = {\n",
        "    \"LayoutLMv1 🦉\": \"impira/layoutlm-document-qa\",\n",
        "    \"LayoutLMv1 for Invoices\" : \"impira/layoutlm-document-qa\",\n",
        "    \"Donut 🍩\": \"naver-clova-ix/donut-base-finetuned-docvqa\",\n",
        "}"
      ],
      "metadata": {
        "id": "JOm_DIVl1CRt"
      },
      "execution_count": 69,
      "outputs": []
    },
    {
      "cell_type": "code",
      "source": [
        "# Use a pipeline as a high-level helper\n",
        "from transformers import pipeline\n",
        "\n",
        "pipe = pipeline(\"document-question-answering\", model=CHECKPOINTS[\"LayoutLMv1 for Invoices\"])"
      ],
      "metadata": {
        "id": "i8bhKaWBxlvM"
      },
      "execution_count": 70,
      "outputs": []
    },
    {
      "cell_type": "code",
      "source": [
        "pipe(image=img_path,question=\"what is invoice no?\")"
      ],
      "metadata": {
        "colab": {
          "base_uri": "https://localhost:8080/"
        },
        "id": "MJQYgHrEBhgl",
        "outputId": "58d93776-554a-4697-9d59-d2124bfe1290"
      },
      "execution_count": 71,
      "outputs": [
        {
          "output_type": "execute_result",
          "data": {
            "text/plain": [
              "[{'score': 0.999248206615448, 'answer': '676/19-20', 'start': 23, 'end': 23}]"
            ]
          },
          "metadata": {},
          "execution_count": 71
        }
      ]
    },
    {
      "cell_type": "code",
      "source": [
        "{\n",
        "  \"score\": 0.999248206615448,\n",
        "  \"answer\": \"676/19-20\",\n",
        "  \"start\": 23,\n",
        "  \"end\": 23\n",
        "}\n"
      ],
      "metadata": {
        "colab": {
          "base_uri": "https://localhost:8080/"
        },
        "id": "IW_CdT-pjGOg",
        "outputId": "2c56628d-137a-4724-fead-59aa62319db3"
      },
      "execution_count": 72,
      "outputs": [
        {
          "output_type": "execute_result",
          "data": {
            "text/plain": [
              "{'score': 0.999248206615448, 'answer': '676/19-20', 'start': 23, 'end': 23}"
            ]
          },
          "metadata": {},
          "execution_count": 72
        }
      ]
    },
    {
      "cell_type": "code",
      "source": [
        "pipe(image=img_path,question=\"what is GSTIN?\")"
      ],
      "metadata": {
        "colab": {
          "base_uri": "https://localhost:8080/"
        },
        "id": "AZZMOlZHBiUV",
        "outputId": "ad5d6f53-6378-49eb-d7b6-9b6e598a08bf"
      },
      "execution_count": 73,
      "outputs": [
        {
          "output_type": "execute_result",
          "data": {
            "text/plain": [
              "[{'score': 0.9756088256835938,\n",
              "  'answer': '27AABCR4390N12W',\n",
              "  'start': 33,\n",
              "  'end': 33}]"
            ]
          },
          "metadata": {},
          "execution_count": 73
        }
      ]
    },
    {
      "cell_type": "code",
      "source": [
        "{'score': 0.9756088256835938,\n",
        "  'answer': '27AABCR4390N12W',\n",
        "  'start': 33,\n",
        "  'end': 33}"
      ],
      "metadata": {
        "colab": {
          "base_uri": "https://localhost:8080/"
        },
        "id": "zCHSKqyIlTl_",
        "outputId": "6ee23eb0-8481-4ec0-b045-738d83590cdb"
      },
      "execution_count": 74,
      "outputs": [
        {
          "output_type": "execute_result",
          "data": {
            "text/plain": [
              "{'score': 0.9756088256835938,\n",
              " 'answer': '27AABCR4390N12W',\n",
              " 'start': 33,\n",
              " 'end': 33}"
            ]
          },
          "metadata": {},
          "execution_count": 74
        }
      ]
    },
    {
      "cell_type": "code",
      "source": [
        "pipe(image=img_path,question=\"what is seller name?\")"
      ],
      "metadata": {
        "id": "OeARTMD-bhFH",
        "colab": {
          "base_uri": "https://localhost:8080/"
        },
        "outputId": "61558c66-2922-4845-dce0-2eba7b4ff24e"
      },
      "execution_count": 75,
      "outputs": [
        {
          "output_type": "execute_result",
          "data": {
            "text/plain": [
              "[{'score': 5.298665200825781e-06,\n",
              "  'answer': 'India Pvt. Ltd.',\n",
              "  'start': 59,\n",
              "  'end': 61}]"
            ]
          },
          "metadata": {},
          "execution_count": 75
        }
      ]
    },
    {
      "cell_type": "code",
      "source": [
        "pipe(image=img_path,question=\"where is delivery address?\")"
      ],
      "metadata": {
        "colab": {
          "base_uri": "https://localhost:8080/"
        },
        "id": "fv0bM9k8mGeP",
        "outputId": "4a8f2298-4e5f-477c-ff0b-d94549da29c6"
      },
      "execution_count": 76,
      "outputs": [
        {
          "output_type": "execute_result",
          "data": {
            "text/plain": [
              "[{'score': 0.23909100890159607,\n",
              "  'answer': 'Maharashtra. (India)',\n",
              "  'start': 78,\n",
              "  'end': 79}]"
            ]
          },
          "metadata": {},
          "execution_count": 76
        }
      ]
    },
    {
      "cell_type": "code",
      "source": [
        "pipe(image=img_path,question=\"what is the buyer name?\")"
      ],
      "metadata": {
        "colab": {
          "base_uri": "https://localhost:8080/"
        },
        "id": "nvPj7BKinj94",
        "outputId": "c3b688fb-529c-4880-a3a3-2591dbadfebc"
      },
      "execution_count": 77,
      "outputs": [
        {
          "output_type": "execute_result",
          "data": {
            "text/plain": [
              "[{'score': 0.6937395334243774,\n",
              "  'answer': 'Efacec India Pvt. Ltd.',\n",
              "  'start': 58,\n",
              "  'end': 61}]"
            ]
          },
          "metadata": {},
          "execution_count": 77
        }
      ]
    },
    {
      "cell_type": "code",
      "source": [
        "pipe(image=img_path,question=\"where is the buyer complete address?\")"
      ],
      "metadata": {
        "colab": {
          "base_uri": "https://localhost:8080/"
        },
        "id": "5FGq3-SnnkFl",
        "outputId": "546b4e0f-f7b0-4abb-cb39-d97dea52a30a"
      },
      "execution_count": 80,
      "outputs": [
        {
          "output_type": "execute_result",
          "data": {
            "text/plain": [
              "[{'score': 0.9203943610191345,\n",
              "  'answer': 'Maharashtra. (India)',\n",
              "  'start': 78,\n",
              "  'end': 79}]"
            ]
          },
          "metadata": {},
          "execution_count": 80
        }
      ]
    },
    {
      "cell_type": "code",
      "source": [
        "pipe(image=img_path,question=\"what is the total invoice?\")"
      ],
      "metadata": {
        "colab": {
          "base_uri": "https://localhost:8080/"
        },
        "id": "owLsEvC5o-N3",
        "outputId": "0a9119fc-db7c-45d0-cf16-d3da48a7795d"
      },
      "execution_count": 81,
      "outputs": [
        {
          "output_type": "execute_result",
          "data": {
            "text/plain": [
              "[{'score': 0.9878901243209839,\n",
              "  'answer': '27,892.80',\n",
              "  'start': 204,\n",
              "  'end': 204}]"
            ]
          },
          "metadata": {},
          "execution_count": 81
        }
      ]
    },
    {
      "cell_type": "code",
      "source": [
        "pipe(image=img_path,question=\"what is PO number\")"
      ],
      "metadata": {
        "colab": {
          "base_uri": "https://localhost:8080/"
        },
        "id": "NMG-ZgXmuBHn",
        "outputId": "40be42fb-b410-498a-c3b0-c541d34957c1"
      },
      "execution_count": 82,
      "outputs": [
        {
          "output_type": "execute_result",
          "data": {
            "text/plain": [
              "[{'score': 3.830775341384651e-08,\n",
              "  'answer': '2999 9718',\n",
              "  'start': 25,\n",
              "  'end': 26}]"
            ]
          },
          "metadata": {},
          "execution_count": 82
        }
      ]
    },
    {
      "cell_type": "code",
      "source": [
        "pipe(image=img_path,question=\"what is  goods code\")"
      ],
      "metadata": {
        "colab": {
          "base_uri": "https://localhost:8080/"
        },
        "id": "K394G2qpwXa2",
        "outputId": "2cb8a6ed-9e8f-4bdb-9137-3a0150702c3d"
      },
      "execution_count": 83,
      "outputs": [
        {
          "output_type": "execute_result",
          "data": {
            "text/plain": [
              "[{'score': 0.0895211398601532, 'answer': 'M750', 'start': 130, 'end': 130}]"
            ]
          },
          "metadata": {},
          "execution_count": 83
        }
      ]
    },
    {
      "cell_type": "code",
      "source": [
        "pipe(image=img_path,question=\"what is Buyer Name\")"
      ],
      "metadata": {
        "colab": {
          "base_uri": "https://localhost:8080/"
        },
        "id": "VTPxgxVcwXde",
        "outputId": "898e5535-cf43-432d-9948-6c134e3a40b4"
      },
      "execution_count": 84,
      "outputs": [
        {
          "output_type": "execute_result",
          "data": {
            "text/plain": [
              "[{'score': 0.9727773666381836,\n",
              "  'answer': 'Efacec India Pvt. Ltd.',\n",
              "  'start': 58,\n",
              "  'end': 61}]"
            ]
          },
          "metadata": {},
          "execution_count": 84
        }
      ]
    },
    {
      "cell_type": "code",
      "source": [],
      "metadata": {
        "id": "iH1BpBPUwXf9"
      },
      "execution_count": null,
      "outputs": []
    },
    {
      "cell_type": "code",
      "source": [
        "pipe(image=img_path,question=\"what is name of goods\")"
      ],
      "metadata": {
        "colab": {
          "base_uri": "https://localhost:8080/"
        },
        "id": "nh8hpgKyuBKn",
        "outputId": "4bf2876f-0bd9-4d7c-8f34-1da8a6cb3058"
      },
      "execution_count": 85,
      "outputs": [
        {
          "output_type": "execute_result",
          "data": {
            "text/plain": [
              "[{'score': 0.06809616833925247, 'answer': 'M750', 'start': 130, 'end': 130}]"
            ]
          },
          "metadata": {},
          "execution_count": 85
        }
      ]
    },
    {
      "cell_type": "code",
      "source": [
        "{'score': 0.06809616833925247, 'answer': 'M750', 'start': 130, 'end': 130}"
      ],
      "metadata": {
        "colab": {
          "base_uri": "https://localhost:8080/"
        },
        "id": "Mrnj4nhSuBM_",
        "outputId": "b43b6ff7-063b-4f0b-d909-022775e167a4"
      },
      "execution_count": 86,
      "outputs": [
        {
          "output_type": "execute_result",
          "data": {
            "text/plain": [
              "{'score': 0.06809616833925247, 'answer': 'M750', 'start': 130, 'end': 130}"
            ]
          },
          "metadata": {},
          "execution_count": 86
        }
      ]
    },
    {
      "cell_type": "code",
      "source": [
        "pipe(image=img_path,question=\"how much discount on taxation\")"
      ],
      "metadata": {
        "colab": {
          "base_uri": "https://localhost:8080/"
        },
        "id": "seYJkPrSuBPX",
        "outputId": "906bbc90-bebe-46fb-a976-786bfd4e09b5"
      },
      "execution_count": 87,
      "outputs": [
        {
          "output_type": "execute_result",
          "data": {
            "text/plain": [
              "[{'score': 8.915445732782246e-07,\n",
              "  'answer': '1,82,852.80',\n",
              "  'start': 157,\n",
              "  'end': 157}]"
            ]
          },
          "metadata": {},
          "execution_count": 87
        }
      ]
    },
    {
      "cell_type": "code",
      "source": [
        "pipe(image=img_path,question=\"how much discount on taxable value after discount\")"
      ],
      "metadata": {
        "colab": {
          "base_uri": "https://localhost:8080/"
        },
        "id": "WVGcakmFv8w_",
        "outputId": "75cbea73-7d34-499c-b26c-45a21fef7061"
      },
      "execution_count": 88,
      "outputs": [
        {
          "output_type": "execute_result",
          "data": {
            "text/plain": [
              "[{'score': 0.5897201895713806,\n",
              "  'answer': \"1,54,960.00'\",\n",
              "  'start': 199,\n",
              "  'end': 199}]"
            ]
          },
          "metadata": {},
          "execution_count": 88
        }
      ]
    }
  ]
}